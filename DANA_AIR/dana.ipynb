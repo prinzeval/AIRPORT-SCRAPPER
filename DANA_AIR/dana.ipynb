{
 "cells": [
  {
   "cell_type": "code",
   "execution_count": 21,
   "metadata": {},
   "outputs": [
    {
     "data": {
      "text/html": [
       "<pre style=\"white-space:pre;overflow-x:auto;line-height:normal;font-family:Menlo,'DejaVu Sans Mono',consolas,'Courier New',monospace\">hello world\n",
       "</pre>\n"
      ],
      "text/plain": [
       "hello world\n"
      ]
     },
     "metadata": {},
     "output_type": "display_data"
    }
   ],
   "source": [
    "print(\"hello world\")"
   ]
  },
  {
   "cell_type": "code",
   "execution_count": null,
   "metadata": {},
   "outputs": [],
   "source": []
  },
  {
   "cell_type": "code",
   "execution_count": 16,
   "metadata": {},
   "outputs": [],
   "source": [
    "import httpx\n",
    "from selectolax.parser import HTMLParser\n",
    "from dataclasses import dataclass\n",
    "from rich import print\n",
    "import requests\n",
    "from bs4 import BeautifulSoup\n",
    "import html5lib"
   ]
  },
  {
   "cell_type": "code",
   "execution_count": 20,
   "metadata": {},
   "outputs": [
    {
     "data": {
      "text/plain": [
       "<html><head><script>Object.assign(window, {\"DATA\":{\"siteData\":{\"isAgent\":false,\"isEmployee\":false,\"agentId\":\"YZVLFGHOT4\"},\"pageData\":{\"isAgent\":false,\"isEmployee\":false,\"agentId\":\"YZVLFGHOT4\"},\"progressBar\":{\"step\":1,\"steps\":[{\"Step\":1,\"Title\":\"Find Flights\",\"Url\":\"flight_selection.aspx\"},{\"Step\":2,\"Title\":\"Choose Flights\",\"Url\":\"flight_selection.aspx\"},{\"Step\":3,\"Title\":\"Passengers\",\"Url\":\"passenger_info.aspx\"},{\"Step\":4,\"Title\":\"Additional Items\",\"Url\":\"item_selection.aspx\"},{\"Step\":5,\"Title\":\"Finished Booking\",\"Url\":\"view_reservation.aspx\"}],\"themePath\":\"../static\"},\"StaticData\":{\"dataOptions\":{\"Currencies\":[\"EUR\",\"GBP\",\"GHS\",\"GMD\",\"NGN\",\"PKR\",\"USD\"],\"CabinClasses\":[{\"CabinName\":\"Economy\",\"CabinType\":2,\"ClassCode\":\"Y\"},{\"CabinName\":\"Business\",\"CabinType\":1,\"ClassCode\":\"J\"}],\"PassengerClasses\":[\"EMP-Confirmed\"],\"origins\":{\"ABV:Abuja:1\":[\"BCU\",\"BNI\",\"ENU\",\"KAD\",\"LOS\",\"PHC\",\"QOW\"],\"BCU:Bauchi:\":[\"ABV\",\"LOS\"],\"BNI:Benin City:\":[\"ABV\",\"LOS\"],\"DKA:Katsina:\":[\"LOS\"],\"ENU:Enugu:1\":[\"ABV\",\"LOS\",\"QOW\"],\"KAD:Kaduna:\":[\"ABV\"],\"KAN:Kano:1\":[\"LOS\"],\"LOS:Lagos:1\":[\"ABV\",\"BCU\",\"BNI\",\"DKA\",\"ENU\",\"PHC\",\"QOW\",\"YOL\"],\"PHC:Port Harcourt:1\":[\"ABV\",\"LOS\",\"QOW\"],\"QOW:Owerri:1\":[\"ABV\",\"ENU\",\"LOS\",\"PHC\"],\"YOL:Yola:\":[\"LOS\"]},\"destinations\":{\"BCU:Bauchi:\":[\"ABV\",\"LOS\"],\"BNI:Benin City:\":[\"ABV\",\"LOS\"],\"ENU:Enugu:1\":[\"ABV\",\"LOS\",\"QOW\"],\"KAD:Kaduna:\":[\"ABV\"],\"LOS:Lagos:1\":[\"ABV\",\"BCU\",\"BNI\",\"DKA\",\"ENU\",\"KAN\",\"PHC\",\"QOW\",\"YOL\"],\"PHC:Port Harcourt:1\":[\"ABV\",\"LOS\",\"QOW\"],\"QOW:Owerri:1\":[\"ABV\",\"ENU\",\"LOS\",\"PHC\"],\"ABV:Abuja:1\":[\"BCU\",\"BNI\",\"ENU\",\"KAD\",\"LOS\",\"PHC\",\"QOW\"],\"DKA:Katsina:\":[\"LOS\"],\"YOL:Yola:\":[\"LOS\"]},\"months\":{\"2024-03\":\"March\",\"2024-04\":\"April\",\"2024-05\":\"May\",\"2024-06\":\"June\",\"2024-07\":\"July\",\"2024-08\":\"August\",\"2024-09\":\"September\",\"2024-10\":\"October\",\"2024-11\":\"November\",\"2024-12\":\"December\",\"2025-01\":\"2025 Jan\",\"2025-02\":\"2025 Feb\"},\"days\":[\"01\",\"02\",\"03\",\"04\",\"05\",\"06\",\"07\",\"08\",\"09\",\"10\",\"11\",\"12\",\"13\",\"14\",\"15\",\"16\",\"17\",\"18\",\"19\",\"20\",\"21\",\"22\",\"23\",\"24\",\"25\",\"26\",\"27\",\"28\",\"29\",\"30\",\"31\"],\"paxs\":[1,2,3,4,5,6,7,8,9],\"nationalCitizenFaresOptions\":false,\"adultsRequired\":true,\"maxNumOfPassengers\":9,\"fareFamilyDetails\":{\"attributes\":{\"Hand Carry Bags\":\"shopping-bag\",\"Checked Bags\":\"shopping-bag\",\"Meals\":\"apple\",\"Dana Rewards\":\"trophy\",\"No Show\":\"exclamation-circle\",\"Exchanges\":\"money-bill-alt\",\"Refund/Cancel Fee\":\"handshake\"},\"families\":{\"EP\":{\"name\":\"Economy Promo\",\"description\":\"Refund: Nonrefundable\\r\\nChange: 1st Change Free before departure, ₦5400 before departure\",\"details\":{\"Hand Carry Bags\":{\"icon\":null,\"text\":\"6 Kg\"},\"Checked Bags\":{\"icon\":null,\"text\":\"23 Kg\"},\"Meals\":{\"icon\":null,\"text\":\"Inflight Refreshments\"},\"Dana Rewards\":{\"icon\":null,\"text\":\"500 Miles\"},\"No Show\":{\"icon\":null,\"text\":\"Not Changeable after Departure\"},\"Exchanges\":{\"icon\":null,\"text\":\"Changeable with Fee\"},\"Refund/Cancel Fee\":{\"icon\":null,\"text\":\"Non Refundable\"}},\"title\":\"Economy Promo\",\"subtitle\":\"\"},\"MA\":{\"name\":\"MOBILE APP\",\"description\":\"Refund: Non Refundable,\\r\\nChange: N5400 or N9900 \\r\\n\",\"details\":{\"Hand Carry Bags\":{\"icon\":null,\"text\":null},\"Checked Bags\":{\"icon\":null,\"text\":null},\"Meals\":{\"icon\":null,\"text\":null},\"Dana Rewards\":{\"icon\":null,\"text\":null},\"No Show\":{\"icon\":null,\"text\":null},\"Exchanges\":{\"icon\":null,\"text\":null},\"Refund/Cancel Fee\":{\"icon\":null,\"text\":null}},\"title\":\"MOBILE APP\",\"subtitle\":\"\"},\"EW\":{\"name\":\"Economy Web\",\"description\":\"Refund: Non-Refundable \\r\\nChange: N2700 or N4500 \",\"details\":{\"Hand Carry Bags\":{\"icon\":\"check\",\"text\":\"6kg per person\"},\"Checked Bags\":{\"icon\":null,\"text\":null},\"Meals\":{\"icon\":null,\"text\":null},\"Dana Rewards\":{\"icon\":null,\"text\":null},\"No Show\":{\"icon\":null,\"text\":null},\"Exchanges\":{\"icon\":null,\"text\":null},\"Refund/Cancel Fee\":{\"icon\":null,\"text\":null}},\"title\":\"Economy Web\",\"subtitle\":\"\"},\"ED\":{\"name\":\"Economy Discount\",\"description\":\"Refunds: Non-refundable\\r\\nChanges: ₦5400 before departure, ₦9900 after departure\",\"details\":{\"Hand Carry Bags\":{\"icon\":null,\"text\":\"6KG\"},\"Checked Bags\":{\"icon\":null,\"text\":\"23KG\"},\"Meals\":{\"icon\":null,\"text\":\"in-flight Refreshments\"},\"Dana Rewards\":{\"icon\":null,\"text\":\"500 Miles\"},\"No Show\":{\"icon\":null,\"text\":\"No show fees apply\"},\"Exchanges\":{\"icon\":null,\"text\":\"Changeable with fee\"},\"Refund/Cancel Fee\":{\"icon\":null,\"text\":\"Non-refundable\"}},\"title\":\"Economy Discount\",\"subtitle\":\"\"},\"ES\":{\"name\":\"Economy Saver\",\"description\":\"Refunds: Non-refundable\\r\\nChanges: ₦5400 before departure, ₦9900 after departure\",\"details\":{\"Hand Carry Bags\":{\"icon\":null,\"text\":\"6KG\"},\"Checked Bags\":{\"icon\":null,\"text\":\"23KG\"},\"Meals\":{\"icon\":null,\"text\":\"in-flight Refreshments\"},\"Dana Rewards\":{\"icon\":null,\"text\":\"500 Miles\"},\"No Show\":{\"icon\":null,\"text\":\"No show fees apply\"},\"Exchanges\":{\"icon\":null,\"text\":\"Changeable with fee\"},\"Refund/Cancel Fee\":{\"icon\":null,\"text\":\"Non-refundable\"}},\"title\":\"Economy Saver\",\"subtitle\":\"\"},\"EF\":{\"name\":\"Economy Flexible\",\"description\":\"Refund Fee: 25%\\r\\nChange Fee: No Fee before departure, ₦9900 after departure\",\"details\":{\"Hand Carry Bags\":{\"icon\":null,\"text\":\"6KG\"},\"Checked Bags\":{\"icon\":null,\"text\":\"23KG\"},\"Meals\":{\"icon\":null,\"text\":\"in-flight Refreshments\"},\"Dana Rewards\":{\"icon\":null,\"text\":\"500 Miles\"},\"No Show\":{\"icon\":null,\"text\":\"No show fees apply\"},\"Exchanges\":{\"icon\":null,\"text\":\"No Fee before departure\"},\"Refund/Cancel Fee\":{\"icon\":null,\"text\":\"Refundable with a fee\"}},\"title\":\"Economy Flexible\",\"subtitle\":\"\"},\"PF\":{\"name\":\"Premium Economy Flexible\",\"description\":\"Refund: 25%\\r\\nChange: No Fee before departure, N1800 after departure\",\"details\":{\"Hand Carry Bags\":{\"icon\":null,\"text\":null},\"Checked Bags\":{\"icon\":null,\"text\":null},\"Meals\":{\"icon\":null,\"text\":null},\"Dana Rewards\":{\"icon\":null,\"text\":null},\"No Show\":{\"icon\":null,\"text\":null},\"Exchanges\":{\"icon\":null,\"text\":null},\"Refund/Cancel Fee\":{\"icon\":null,\"text\":null}},\"title\":\"Premium Economy Flexible\",\"subtitle\":\"\"},\"BS\":{\"name\":\"Business Saver\",\"description\":\"Refund Fee: 25%\\r\\nChange Fee: ₦5400 before departure, ₦9900 after departure\",\"details\":{\"Hand Carry Bags\":{\"icon\":null,\"text\":\"6KG\"},\"Checked Bags\":{\"icon\":null,\"text\":\"30KG\"},\"Meals\":{\"icon\":null,\"text\":\"in-flight Refreshments\"},\"Dana Rewards\":{\"icon\":null,\"text\":\"875 Miles\"},\"No Show\":{\"icon\":null,\"text\":\"No show fees apply\"},\"Exchanges\":{\"icon\":null,\"text\":\"Changeable with fees\"},\"Refund/Cancel Fee\":{\"icon\":null,\"text\":\"Refundable with a fee\"}},\"title\":\"Business Saver\",\"subtitle\":\"\"},\"BF\":{\"name\":\"Business Flexible\",\"description\":\"Refund Fee: 25%\\r\\nChange Fee: No Fee before departure, ₦9900 after departure\",\"details\":{\"Hand Carry Bags\":{\"icon\":null,\"text\":\"6KG\"},\"Checked Bags\":{\"icon\":null,\"text\":\"30KG\"},\"Meals\":{\"icon\":null,\"text\":\"in-flight Refreshments\"},\"Dana Rewards\":{\"icon\":null,\"text\":\"875 Miles\"},\"No Show\":{\"icon\":null,\"text\":\"No show fees apply\"},\"Exchanges\":{\"icon\":null,\"text\":\"No Fee before departure\"},\"Refund/Cancel Fee\":{\"icon\":null,\"text\":\"Refundable with a fee\"}},\"title\":\"Business Flexible\",\"subtitle\":\"\"}}}},\"pageState\":{\"searchTitle\":\"Find Flights\",\"maxNumOfPassengers\":9,\"actionTarget\":\"flight_selection.aspx\",\"shortForm\":false,\"shortFormURL\":\"bookings/flight_selection.aspx?=&TT=MC\",\"selectedDate\":\"2024-03-02T00:00:00+01:00\",\"minPastDates\":1}},\"SearchData\":{\"tripSegments\":[{\"departCity\":\"LOS\",\"arriveCity\":\"ABV\",\"arriveMonth\":\"2024-03\",\"arriveDay\":\"02\",\"isExchangeable\":false,\"segmentBlock\":0,\"departExchangeGroup\":null,\"arriveExchangeGroup\":null,\"arriveDate\":\"2024-03-02\",\"arriveDateTime\":\"2024-03-02T00:00:00\"},{\"departCity\":null,\"arriveCity\":null,\"arriveMonth\":null,\"arriveDay\":null,\"isExchangeable\":false,\"segmentBlock\":0,\"departExchangeGroup\":null,\"arriveExchangeGroup\":null,\"arriveDate\":\"-\",\"arriveDateTime\":null},{\"departCity\":null,\"arriveCity\":null,\"arriveMonth\":null,\"arriveDay\":null,\"isExchangeable\":false,\"segmentBlock\":0,\"departExchangeGroup\":null,\"arriveExchangeGroup\":null,\"arriveDate\":\"-\",\"arriveDateTime\":null},{\"departCity\":null,\"arriveCity\":null,\"arriveMonth\":null,\"arriveDay\":null,\"isExchangeable\":false,\"segmentBlock\":0,\"departExchangeGroup\":null,\"arriveExchangeGroup\":null,\"arriveDate\":\"-\",\"arriveDateTime\":null}],\"returnMonth\":\"2024-03\",\"returnDay_\":\"03\",\"flexibleDates\":true,\"allowPastDates\":false,\"adultCount\":1,\"childCount\":null,\"infantCount\":null,\"maxPassengers\":9,\"tripType\":\"RT\",\"currency\":null,\"directOnly\":false,\"cabinClass\":null,\"promoCode\":null,\"passengerClass\":null,\"onlyNationalCitizens\":false,\"adultCode\":\"ADT\",\"childCode\":\"CHD\",\"infantCode\":\"INF\",\"reservationType\":null,\"specialSaleType\":null,\"responseFormat\":null,\"errors\":{},\"returnDay\":\"03\",\"oneWay\":false,\"multiCity\":false,\"roundTrip\":true,\"returnDate\":\"2024-03-03\",\"returnDateTime\":\"2024-03-03T00:00:00\"},\"bookingSummary\":null,\"specialSales\":{\"auth\":null,\"options\":null,\"rewardsMilesName\":\"Dana Miles\"}}});</script>\n",
       "<link as=\"style\" href=\"/custom/9J/client/dist/css/chunk-common.c7724d01.css\" rel=\"preload\"/><link as=\"style\" href=\"/custom/9J/client/dist/css/flight_selection.fb4ca35b.css\" rel=\"preload\"/><link as=\"script\" href=\"/custom/9J/client/dist/js/chunk-common.09ac2dad.js\" rel=\"preload\"/><link as=\"script\" href=\"/custom/9J/client/dist/js/chunk-vendors.46411c9e.js\" rel=\"preload\"/><link as=\"script\" href=\"/custom/9J/client/dist/js/flight_selection.c00e9e6f.js\" rel=\"preload\"/><link href=\"/custom/9J/client/dist/css/chunk-common.c7724d01.css\" rel=\"stylesheet\"/><link href=\"/custom/9J/client/dist/css/flight_selection.fb4ca35b.css\" rel=\"stylesheet\"/>\n",
       "\n",
       "<script>(function(w,d,s,l,i){w[l]=w[l]||[];w[l].push({'gtm.start':\n",
       "new Date().getTime(),event:'gtm.js'});var f=d.getElementsByTagName(s)[0],\n",
       "j=d.createElement(s),dl=l!='dataLayer'?'&l='+l:'';j.async=true;j.src=\n",
       "'https://www.googletagmanager.com/gtm.js?id='+i+dl;f.parentNode.insertBefore(j,f);\n",
       "})(window,document,'script','dataLayer','GTM-PSG9BLJ8');</script>\n",
       "\n",
       "<meta content=\"width=device-width,initial-scale=1\" name=\"viewport\"/></head><body><div id=\"app\"></div><script src=\"//cdn.jsdelivr.net/npm/vue@2.7.13\"></script><script src=\"//cdn.jsdelivr.net/npm/moment@2.29.4\"></script><script src=\"/custom/9J/client/dist/js/chunk-vendors.46411c9e.js\"></script><script src=\"/custom/9J/client/dist/js/chunk-common.09ac2dad.js\"></script><script src=\"/custom/9J/client/dist/js/flight_selection.c00e9e6f.js\"></script>\n",
       "\n",
       "<noscript><iframe height=\"0\" src=\"https://www.googletagmanager.com/ns.html?id=GTM-PSG9BLJ8\" style=\"display:none;visibility:hidden\" width=\"0\"></iframe></noscript>\n",
       "\n",
       "<script crossorigin=\"anonymous\" data-cf-beacon='{\"rayId\":\"85e1d6a73e46a991\",\"b\":1,\"version\":\"2024.2.4\",\"token\":\"445925ccf24744e48479dd4f385f0a2f\"}' defer=\"\" integrity=\"sha512-euoFGowhlaLqXsPWQ48qSkBSCFs3DPRyiwVu3FjR96cMPx+Fr+gpWRhIafcHwqwCqWS42RZhIudOvEI+Ckf6MA==\" src=\"https://static.cloudflareinsights.com/beacon.min.js/v84a3a4012de94ce1a686ba8c167c359c1696973893317\"></script>\n",
       "</body></html>"
      ]
     },
     "execution_count": 20,
     "metadata": {},
     "output_type": "execute_result"
    }
   ],
   "source": [
    "url = 'https://secure.flydanaair.com/bookings/Vues/flight_selection.aspx?'\n",
    "r = requests.get(url)\n",
    "\n",
    "soup = BeautifulSoup(r.text, 'html5lib')\n",
    "soup"
   ]
  },
  {
   "cell_type": "code",
   "execution_count": 37,
   "metadata": {},
   "outputs": [],
   "source": [
    "import matplotlib.pyplot as plt\n"
   ]
  },
  {
   "cell_type": "code",
   "execution_count": 38,
   "metadata": {},
   "outputs": [],
   "source": [
    "# Create a class Circle\n",
    "\n",
    "class Circle(object):\n",
    "    \n",
    "    # Constructor\n",
    "    def __init__(self, radius=3, color='blue'):\n",
    "        self.radius = radius\n",
    "        self.color = color \n",
    "    \n",
    "    # Method\n",
    "    def add_radius(self, r):\n",
    "        self.radius = self.radius + r\n",
    "        return(self.radius)\n",
    "    \n",
    "    # Method\n",
    "    def drawCircle(self):\n",
    "        plt.gca().add_patch(plt.Circle((0, 0), radius=self.radius, fc=self.color))\n",
    "        plt.axis('scaled')\n",
    "        plt.show()  "
   ]
  },
  {
   "cell_type": "code",
   "execution_count": 39,
   "metadata": {},
   "outputs": [],
   "source": [
    "# Create an object RedCircle\n",
    "\n",
    "RedCircle = Circle(10, 'red')"
   ]
  },
  {
   "cell_type": "code",
   "execution_count": 40,
   "metadata": {},
   "outputs": [
    {
     "data": {
      "text/plain": [
       "['__class__',\n",
       " '__delattr__',\n",
       " '__dict__',\n",
       " '__dir__',\n",
       " '__doc__',\n",
       " '__eq__',\n",
       " '__format__',\n",
       " '__ge__',\n",
       " '__getattribute__',\n",
       " '__getstate__',\n",
       " '__gt__',\n",
       " '__hash__',\n",
       " '__init__',\n",
       " '__init_subclass__',\n",
       " '__le__',\n",
       " '__lt__',\n",
       " '__module__',\n",
       " '__ne__',\n",
       " '__new__',\n",
       " '__reduce__',\n",
       " '__reduce_ex__',\n",
       " '__repr__',\n",
       " '__setattr__',\n",
       " '__sizeof__',\n",
       " '__str__',\n",
       " '__subclasshook__',\n",
       " '__weakref__',\n",
       " 'add_radius',\n",
       " 'color',\n",
       " 'drawCircle',\n",
       " 'radius']"
      ]
     },
     "execution_count": 40,
     "metadata": {},
     "output_type": "execute_result"
    }
   ],
   "source": [
    "# Find out the methods can be used on the object RedCircle\n",
    "\n",
    "dir(RedCircle)"
   ]
  },
  {
   "cell_type": "code",
   "execution_count": 41,
   "metadata": {},
   "outputs": [
    {
     "data": {
      "text/plain": [
       "10"
      ]
     },
     "execution_count": 41,
     "metadata": {},
     "output_type": "execute_result"
    }
   ],
   "source": [
    "# Print the object attribute radius\n",
    "\n",
    "RedCircle.radius"
   ]
  },
  {
   "cell_type": "code",
   "execution_count": 42,
   "metadata": {},
   "outputs": [
    {
     "data": {
      "text/plain": [
       "'red'"
      ]
     },
     "execution_count": 42,
     "metadata": {},
     "output_type": "execute_result"
    }
   ],
   "source": [
    "# Print the object attribute color\n",
    "\n",
    "RedCircle.color"
   ]
  },
  {
   "cell_type": "code",
   "execution_count": 43,
   "metadata": {},
   "outputs": [
    {
     "data": {
      "text/plain": [
       "1"
      ]
     },
     "execution_count": 43,
     "metadata": {},
     "output_type": "execute_result"
    }
   ],
   "source": [
    "# Set the object attribute radius\n",
    "\n",
    "RedCircle.radius = 1\n",
    "RedCircle.radius"
   ]
  },
  {
   "cell_type": "code",
   "execution_count": 44,
   "metadata": {},
   "outputs": [
    {
     "data": {
      "image/png": "[encoded data removed]",
      "text/plain": [
       "<Figure size 640x480 with 1 Axes>"
      ]
     },
     "metadata": {},
     "output_type": "display_data"
    }
   ],
   "source": [
    "# Call the method drawCircle\n",
    "\n",
    "RedCircle.drawCircle()\n"
   ]
  },
  {
   "cell_type": "code",
   "execution_count": 45,
   "metadata": {},
   "outputs": [
    {
     "data": {
      "text/html": [
       "<pre style=\"white-space:pre;overflow-x:auto;line-height:normal;font-family:Menlo,'DejaVu Sans Mono',consolas,'Courier New',monospace\">Radius of object: <span style=\"color: #008080; text-decoration-color: #008080; font-weight: bold\">1</span>\n",
       "</pre>\n"
      ],
      "text/plain": [
       "Radius of object: \u001b[1;36m1\u001b[0m\n"
      ]
     },
     "metadata": {},
     "output_type": "display_data"
    },
    {
     "data": {
      "text/html": [
       "<pre style=\"white-space:pre;overflow-x:auto;line-height:normal;font-family:Menlo,'DejaVu Sans Mono',consolas,'Courier New',monospace\">Radius of object of after applying the method <span style=\"color: #800080; text-decoration-color: #800080; font-weight: bold\">add_radius</span><span style=\"font-weight: bold\">(</span><span style=\"color: #008080; text-decoration-color: #008080; font-weight: bold\">2</span><span style=\"font-weight: bold\">)</span>: <span style=\"color: #008080; text-decoration-color: #008080; font-weight: bold\">3</span>\n",
       "</pre>\n"
      ],
      "text/plain": [
       "Radius of object of after applying the method \u001b[1;35madd_radius\u001b[0m\u001b[1m(\u001b[0m\u001b[1;36m2\u001b[0m\u001b[1m)\u001b[0m: \u001b[1;36m3\u001b[0m\n"
      ]
     },
     "metadata": {},
     "output_type": "display_data"
    },
    {
     "data": {
      "text/html": [
       "<pre style=\"white-space:pre;overflow-x:auto;line-height:normal;font-family:Menlo,'DejaVu Sans Mono',consolas,'Courier New',monospace\">Radius of object of after applying the method <span style=\"color: #800080; text-decoration-color: #800080; font-weight: bold\">add_radius</span><span style=\"font-weight: bold\">(</span><span style=\"color: #008080; text-decoration-color: #008080; font-weight: bold\">5</span><span style=\"font-weight: bold\">)</span>: <span style=\"color: #008080; text-decoration-color: #008080; font-weight: bold\">8</span>\n",
       "</pre>\n"
      ],
      "text/plain": [
       "Radius of object of after applying the method \u001b[1;35madd_radius\u001b[0m\u001b[1m(\u001b[0m\u001b[1;36m5\u001b[0m\u001b[1m)\u001b[0m: \u001b[1;36m8\u001b[0m\n"
      ]
     },
     "metadata": {},
     "output_type": "display_data"
    }
   ],
   "source": [
    "# Use method to change the object attribute radius\n",
    "\n",
    "print('Radius of object:',RedCircle.radius)\n",
    "RedCircle.add_radius(2)\n",
    "print('Radius of object of after applying the method add_radius(2):',RedCircle.radius)\n",
    "RedCircle.add_radius(5)\n",
    "print('Radius of object of after applying the method add_radius(5):',RedCircle.radius)"
   ]
  },
  {
   "cell_type": "code",
   "execution_count": 46,
   "metadata": {},
   "outputs": [],
   "source": [
    "# Create a blue circle with a given radius\n",
    "\n",
    "BlueCircle = Circle(radius=100)"
   ]
  },
  {
   "cell_type": "code",
   "execution_count": 47,
   "metadata": {},
   "outputs": [
    {
     "data": {
      "text/plain": [
       "100"
      ]
     },
     "execution_count": 47,
     "metadata": {},
     "output_type": "execute_result"
    }
   ],
   "source": [
    "# Print the object attribute radius\n",
    "\n",
    "BlueCircle.radius"
   ]
  },
  {
   "cell_type": "code",
   "execution_count": 48,
   "metadata": {},
   "outputs": [
    {
     "data": {
      "text/plain": [
       "'blue'"
      ]
     },
     "execution_count": 48,
     "metadata": {},
     "output_type": "execute_result"
    }
   ],
   "source": [
    "# Print the object attribute color\n",
    "\n",
    "BlueCircle.color"
   ]
  },
  {
   "cell_type": "code",
   "execution_count": 49,
   "metadata": {},
   "outputs": [
    {
     "data": {
      "image/png": "[encoded data removed]",
      "text/plain": [
       "<Figure size 640x480 with 1 Axes>"
      ]
     },
     "metadata": {},
     "output_type": "display_data"
    }
   ],
   "source": [
    "# Call the method drawCircle\n",
    "\n",
    "BlueCircle.drawCircle()"
   ]
  },
  {
   "cell_type": "code",
   "execution_count": 50,
   "metadata": {},
   "outputs": [],
   "source": [
    "# Create a new Rectangle class for creating a rectangle object\n",
    "\n",
    "class Rectangle(object):\n",
    "    \n",
    "    # Constructor\n",
    "    def __init__(self, width=2, height=3, color='r'):\n",
    "        self.height = height \n",
    "        self.width = width\n",
    "        self.color = color\n",
    "    \n",
    "    # Method\n",
    "    def drawRectangle(self):\n",
    "        plt.gca().add_patch(plt.Rectangle((0, 0), self.width, self.height ,fc=self.color))\n",
    "        plt.axis('scaled')\n",
    "        plt.show()\n",
    "        "
   ]
  },
  {
   "cell_type": "code",
   "execution_count": null,
   "metadata": {},
   "outputs": [],
   "source": []
  }
 ],
 "metadata": {
  "kernelspec": {
   "display_name": "base",
   "language": "python",
   "name": "python3"
  },
  "language_info": {
   "codemirror_mode": {
    "name": "ipython",
    "version": 3
   },
   "file_extension": ".py",
   "mimetype": "text/x-python",
   "name": "python",
   "nbconvert_exporter": "python",
   "pygments_lexer": "ipython3",
   "version": "3.11.5"
  }
 },
 "nbformat": 4,
 "nbformat_minor": 2
}
